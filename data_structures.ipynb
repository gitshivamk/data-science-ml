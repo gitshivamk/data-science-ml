{
 "cells": [
  {
   "cell_type": "markdown",
   "id": "opponent-possession",
   "metadata": {},
   "source": [
    "### Built-in Data Structures"
   ]
  },
  {
   "cell_type": "markdown",
   "id": "quiet-nicaragua",
   "metadata": {},
   "source": [
    "#### 1. Strings"
   ]
  },
  {
   "cell_type": "code",
   "execution_count": 1,
   "id": "noticed-sudan",
   "metadata": {},
   "outputs": [],
   "source": [
    "a=\"python\""
   ]
  },
  {
   "cell_type": "code",
   "execution_count": 2,
   "id": "established-touch",
   "metadata": {},
   "outputs": [
    {
     "name": "stdout",
     "output_type": "stream",
     "text": [
      "python\n"
     ]
    }
   ],
   "source": [
    "print(a)"
   ]
  },
  {
   "cell_type": "code",
   "execution_count": 4,
   "id": "driving-attraction",
   "metadata": {},
   "outputs": [],
   "source": [
    "b='coding blocks'"
   ]
  },
  {
   "cell_type": "code",
   "execution_count": 5,
   "id": "documented-wildlife",
   "metadata": {},
   "outputs": [
    {
     "name": "stdout",
     "output_type": "stream",
     "text": [
      "coding blocks\n"
     ]
    }
   ],
   "source": [
    "print(b)"
   ]
  },
  {
   "cell_type": "code",
   "execution_count": 6,
   "id": "modular-winning",
   "metadata": {},
   "outputs": [],
   "source": [
    "c='''\n",
    "this is a\n",
    "multiline string\n",
    "'''"
   ]
  },
  {
   "cell_type": "code",
   "execution_count": 8,
   "id": "reduced-horizon",
   "metadata": {},
   "outputs": [
    {
     "name": "stdout",
     "output_type": "stream",
     "text": [
      "\n",
      "this is a\n",
      "multiline string\n",
      "\n"
     ]
    }
   ],
   "source": [
    "print(c)"
   ]
  },
  {
   "cell_type": "code",
   "execution_count": 9,
   "id": "printable-labor",
   "metadata": {},
   "outputs": [
    {
     "data": {
      "text/plain": [
       "'\\nthis is a\\nmultiline string\\n'"
      ]
     },
     "execution_count": 9,
     "metadata": {},
     "output_type": "execute_result"
    }
   ],
   "source": [
    "c"
   ]
  },
  {
   "cell_type": "code",
   "execution_count": 10,
   "id": "color-lafayette",
   "metadata": {},
   "outputs": [],
   "source": [
    "d=\"\"\"\n",
    "this is also a\n",
    "multiline string\n",
    "\"\"\""
   ]
  },
  {
   "cell_type": "code",
   "execution_count": 11,
   "id": "recovered-operator",
   "metadata": {},
   "outputs": [
    {
     "name": "stdout",
     "output_type": "stream",
     "text": [
      "\n",
      "this is also a\n",
      "multiline string\n",
      "\n"
     ]
    }
   ],
   "source": [
    "print(d)"
   ]
  },
  {
   "cell_type": "code",
   "execution_count": 14,
   "id": "perceived-miami",
   "metadata": {},
   "outputs": [
    {
     "data": {
      "text/plain": [
       "97"
      ]
     },
     "execution_count": 14,
     "metadata": {},
     "output_type": "execute_result"
    }
   ],
   "source": [
    "# 'ord()' returns the ASCII equivalent index of a character \n",
    "ord(\"a\")"
   ]
  },
  {
   "cell_type": "code",
   "execution_count": 16,
   "id": "religious-folder",
   "metadata": {},
   "outputs": [
    {
     "data": {
      "text/plain": [
       "'A'"
      ]
     },
     "execution_count": 16,
     "metadata": {},
     "output_type": "execute_result"
    }
   ],
   "source": [
    "# 'chr()' returns the equivalent character of given ASCII index\n",
    "chr(65)"
   ]
  },
  {
   "cell_type": "code",
   "execution_count": null,
   "id": "composed-georgia",
   "metadata": {},
   "outputs": [],
   "source": []
  },
  {
   "cell_type": "code",
   "execution_count": null,
   "id": "registered-sarah",
   "metadata": {},
   "outputs": [],
   "source": []
  },
  {
   "cell_type": "markdown",
   "id": "democratic-associate",
   "metadata": {},
   "source": [
    "### Strings\n",
    "- formated strings\n",
    "- strip \n",
    "- split\n",
    "- replace\n",
    "- count"
   ]
  },
  {
   "cell_type": "code",
   "execution_count": 1,
   "id": "legislative-nickname",
   "metadata": {},
   "outputs": [],
   "source": [
    "name = \"Shivam\"\n",
    "age = 21\n",
    "year = 4"
   ]
  },
  {
   "cell_type": "code",
   "execution_count": 7,
   "id": "surrounded-tension",
   "metadata": {},
   "outputs": [
    {
     "name": "stdout",
     "output_type": "stream",
     "text": [
      "My name is Shivam. I am 21 years old. I am in 4th year.\n"
     ]
    }
   ],
   "source": [
    "print(\"My name is \"+name +\". I am \"+ str(age)+ \" years old. I am in \" + str(year)+\"th year.\")"
   ]
  },
  {
   "cell_type": "code",
   "execution_count": 8,
   "id": "future-newport",
   "metadata": {},
   "outputs": [
    {
     "name": "stdout",
     "output_type": "stream",
     "text": [
      "My name is Shivam. I am 21 years old. I am in 4th year.\n"
     ]
    }
   ],
   "source": [
    "print(\"My name is %s. I am %d years old. I am in %dth year.\"%(name, age, year) )"
   ]
  },
  {
   "cell_type": "code",
   "execution_count": 9,
   "id": "affecting-pressing",
   "metadata": {},
   "outputs": [
    {
     "name": "stdout",
     "output_type": "stream",
     "text": [
      "My name is Shivam. I am 21 years old. I am in 4th year.\n"
     ]
    }
   ],
   "source": [
    "print(\"My name is {}. I am {} years old. I am in {}th year.\".format(name, age, year) )"
   ]
  },
  {
   "cell_type": "markdown",
   "id": "jewish-hudson",
   "metadata": {},
   "source": [
    "#### f-strings"
   ]
  },
  {
   "cell_type": "code",
   "execution_count": 11,
   "id": "asian-straight",
   "metadata": {},
   "outputs": [
    {
     "name": "stdout",
     "output_type": "stream",
     "text": [
      "My name is Shivam. I am 21 years old. I am in 4th year.\n"
     ]
    }
   ],
   "source": [
    "print(f\"My name is {name}. I am {age} years old. I am in {year}th year.\")"
   ]
  },
  {
   "cell_type": "code",
   "execution_count": null,
   "id": "private-august",
   "metadata": {},
   "outputs": [],
   "source": []
  },
  {
   "cell_type": "markdown",
   "id": "severe-generic",
   "metadata": {},
   "source": [
    "#### strip(), split(), replace(), count()"
   ]
  },
  {
   "cell_type": "code",
   "execution_count": 12,
   "id": "classified-holocaust",
   "metadata": {},
   "outputs": [],
   "source": [
    "st = \"    good morning.   \""
   ]
  },
  {
   "cell_type": "code",
   "execution_count": 13,
   "id": "partial-nicholas",
   "metadata": {},
   "outputs": [
    {
     "data": {
      "text/plain": [
       "'    good morning.   '"
      ]
     },
     "execution_count": 13,
     "metadata": {},
     "output_type": "execute_result"
    }
   ],
   "source": [
    "st"
   ]
  },
  {
   "cell_type": "code",
   "execution_count": 18,
   "id": "cleared-quarterly",
   "metadata": {},
   "outputs": [
    {
     "data": {
      "text/plain": [
       "'    good morning.'"
      ]
     },
     "execution_count": 18,
     "metadata": {},
     "output_type": "execute_result"
    }
   ],
   "source": [
    "st.lstrip()"
   ]
  },
  {
   "cell_type": "code",
   "execution_count": 19,
   "id": "floppy-astronomy",
   "metadata": {},
   "outputs": [
    {
     "data": {
      "text/plain": [
       "'    good morning.'"
      ]
     },
     "execution_count": 19,
     "metadata": {},
     "output_type": "execute_result"
    }
   ],
   "source": [
    "st.rstrip()"
   ]
  },
  {
   "cell_type": "code",
   "execution_count": 20,
   "id": "liquid-bidder",
   "metadata": {},
   "outputs": [
    {
     "data": {
      "text/plain": [
       "'good morning.'"
      ]
     },
     "execution_count": 20,
     "metadata": {},
     "output_type": "execute_result"
    }
   ],
   "source": [
    "st.strip()"
   ]
  },
  {
   "cell_type": "code",
   "execution_count": 24,
   "id": "special-disclosure",
   "metadata": {},
   "outputs": [
    {
     "name": "stdout",
     "output_type": "stream",
     "text": [
      "Enter yes or no yes  \n"
     ]
    }
   ],
   "source": [
    " response = input(\"Enter yes or no\")"
   ]
  },
  {
   "cell_type": "code",
   "execution_count": 22,
   "id": "sharp-breathing",
   "metadata": {},
   "outputs": [
    {
     "data": {
      "text/plain": [
       "'yes'"
      ]
     },
     "execution_count": 22,
     "metadata": {},
     "output_type": "execute_result"
    }
   ],
   "source": [
    "response.strip()"
   ]
  },
  {
   "cell_type": "code",
   "execution_count": 23,
   "id": "according-baker",
   "metadata": {},
   "outputs": [
    {
     "data": {
      "text/plain": [
       "True"
      ]
     },
     "execution_count": 23,
     "metadata": {},
     "output_type": "execute_result"
    }
   ],
   "source": [
    "response.strip() == \"yes\""
   ]
  },
  {
   "cell_type": "code",
   "execution_count": 25,
   "id": "generous-escape",
   "metadata": {},
   "outputs": [],
   "source": [
    "st = \"My name is Shivam\""
   ]
  },
  {
   "cell_type": "code",
   "execution_count": 26,
   "id": "limiting-tragedy",
   "metadata": {},
   "outputs": [
    {
     "data": {
      "text/plain": [
       "['My', 'name', 'is', 'Shivam']"
      ]
     },
     "execution_count": 26,
     "metadata": {},
     "output_type": "execute_result"
    }
   ],
   "source": [
    "st.split()"
   ]
  },
  {
   "cell_type": "code",
   "execution_count": 29,
   "id": "celtic-theology",
   "metadata": {},
   "outputs": [
    {
     "data": {
      "text/plain": [
       "'My name is Shashank'"
      ]
     },
     "execution_count": 29,
     "metadata": {},
     "output_type": "execute_result"
    }
   ],
   "source": [
    "st.replace(\"Shivam\", \"Shashank\")"
   ]
  },
  {
   "cell_type": "code",
   "execution_count": 31,
   "id": "smoking-vegetable",
   "metadata": {},
   "outputs": [],
   "source": [
    "st = \"aaaaazzzz\""
   ]
  },
  {
   "cell_type": "code",
   "execution_count": 33,
   "id": "floating-deadline",
   "metadata": {},
   "outputs": [
    {
     "data": {
      "text/plain": [
       "'bbbbbzzzz'"
      ]
     },
     "execution_count": 33,
     "metadata": {},
     "output_type": "execute_result"
    }
   ],
   "source": [
    "st.replace(\"a\", \"b\")"
   ]
  },
  {
   "cell_type": "code",
   "execution_count": 34,
   "id": "several-cigarette",
   "metadata": {},
   "outputs": [
    {
     "data": {
      "text/plain": [
       "5"
      ]
     },
     "execution_count": 34,
     "metadata": {},
     "output_type": "execute_result"
    }
   ],
   "source": [
    "st.count(\"a\")"
   ]
  },
  {
   "cell_type": "code",
   "execution_count": null,
   "id": "economic-interval",
   "metadata": {},
   "outputs": [],
   "source": []
  },
  {
   "cell_type": "code",
   "execution_count": null,
   "id": "banned-charm",
   "metadata": {},
   "outputs": [],
   "source": []
  },
  {
   "cell_type": "markdown",
   "id": "heated-better",
   "metadata": {},
   "source": [
    "### Lists\n",
    "#### Creating Lists"
   ]
  },
  {
   "cell_type": "code",
   "execution_count": 35,
   "id": "polished-blues",
   "metadata": {},
   "outputs": [],
   "source": [
    "a = [1,2,3,4]"
   ]
  },
  {
   "cell_type": "code",
   "execution_count": 36,
   "id": "afraid-north",
   "metadata": {
    "scrolled": false
   },
   "outputs": [
    {
     "data": {
      "text/plain": [
       "[1, 2, 3, 4]"
      ]
     },
     "execution_count": 36,
     "metadata": {},
     "output_type": "execute_result"
    }
   ],
   "source": [
    "a"
   ]
  },
  {
   "cell_type": "code",
   "execution_count": 37,
   "id": "transparent-release",
   "metadata": {},
   "outputs": [
    {
     "data": {
      "text/plain": [
       "1"
      ]
     },
     "execution_count": 37,
     "metadata": {},
     "output_type": "execute_result"
    }
   ],
   "source": [
    "a[0]"
   ]
  },
  {
   "cell_type": "code",
   "execution_count": 42,
   "id": "imperial-struggle",
   "metadata": {},
   "outputs": [],
   "source": [
    "a = [\"Shivam\",2,3, print]"
   ]
  },
  {
   "cell_type": "code",
   "execution_count": 39,
   "id": "large-interest",
   "metadata": {},
   "outputs": [
    {
     "data": {
      "text/plain": [
       "'Shivam'"
      ]
     },
     "execution_count": 39,
     "metadata": {},
     "output_type": "execute_result"
    }
   ],
   "source": [
    "a[0]"
   ]
  },
  {
   "cell_type": "code",
   "execution_count": 44,
   "id": "appreciated-archive",
   "metadata": {},
   "outputs": [
    {
     "name": "stdout",
     "output_type": "stream",
     "text": [
      "hello world\n"
     ]
    }
   ],
   "source": [
    "a[3](\"hello world\") # passing print function as an element of list"
   ]
  },
  {
   "cell_type": "markdown",
   "id": "three-uzbekistan",
   "metadata": {},
   "source": [
    "#### Basic operations on lists"
   ]
  },
  {
   "cell_type": "code",
   "execution_count": 59,
   "id": "starting-gross",
   "metadata": {},
   "outputs": [],
   "source": [
    "a = [1,2,3,4]"
   ]
  },
  {
   "cell_type": "code",
   "execution_count": 46,
   "id": "revolutionary-atlanta",
   "metadata": {},
   "outputs": [
    {
     "data": {
      "text/plain": [
       "4"
      ]
     },
     "execution_count": 46,
     "metadata": {},
     "output_type": "execute_result"
    }
   ],
   "source": [
    "len(a)"
   ]
  },
  {
   "cell_type": "code",
   "execution_count": 47,
   "id": "wooden-associate",
   "metadata": {},
   "outputs": [
    {
     "data": {
      "text/plain": [
       "[1, 2, 3, 4, 1, 2, 3, 4]"
      ]
     },
     "execution_count": 47,
     "metadata": {},
     "output_type": "execute_result"
    }
   ],
   "source": [
    "a + a"
   ]
  },
  {
   "cell_type": "code",
   "execution_count": 48,
   "id": "african-breach",
   "metadata": {},
   "outputs": [
    {
     "data": {
      "text/plain": [
       "[1, 2, 3, 4, 1, 2, 3, 4, 1, 2, 3, 4, 1, 2, 3, 4]"
      ]
     },
     "execution_count": 48,
     "metadata": {},
     "output_type": "execute_result"
    }
   ],
   "source": [
    "a*4"
   ]
  },
  {
   "cell_type": "code",
   "execution_count": 49,
   "id": "intense-comment",
   "metadata": {},
   "outputs": [
    {
     "data": {
      "text/plain": [
       "True"
      ]
     },
     "execution_count": 49,
     "metadata": {},
     "output_type": "execute_result"
    }
   ],
   "source": [
    "4 in a"
   ]
  },
  {
   "cell_type": "code",
   "execution_count": 51,
   "id": "infectious-excellence",
   "metadata": {},
   "outputs": [
    {
     "name": "stdout",
     "output_type": "stream",
     "text": [
      "1\n",
      "2\n",
      "3\n",
      "4\n"
     ]
    }
   ],
   "source": [
    "for i in a:\n",
    "    print(i)"
   ]
  },
  {
   "cell_type": "markdown",
   "id": "cordless-union",
   "metadata": {},
   "source": [
    "#### Indexing and list slicing"
   ]
  },
  {
   "cell_type": "code",
   "execution_count": 60,
   "id": "related-miller",
   "metadata": {},
   "outputs": [
    {
     "data": {
      "text/plain": [
       "[1, 2, 3, 4]"
      ]
     },
     "execution_count": 60,
     "metadata": {},
     "output_type": "execute_result"
    }
   ],
   "source": [
    "a"
   ]
  },
  {
   "cell_type": "code",
   "execution_count": 61,
   "id": "complicated-airfare",
   "metadata": {},
   "outputs": [
    {
     "data": {
      "text/plain": [
       "4"
      ]
     },
     "execution_count": 61,
     "metadata": {},
     "output_type": "execute_result"
    }
   ],
   "source": [
    "a[3]# forward indexing"
   ]
  },
  {
   "cell_type": "code",
   "execution_count": 62,
   "id": "rotary-scope",
   "metadata": {},
   "outputs": [
    {
     "data": {
      "text/plain": [
       "4"
      ]
     },
     "execution_count": 62,
     "metadata": {},
     "output_type": "execute_result"
    }
   ],
   "source": [
    "a[-1]"
   ]
  },
  {
   "cell_type": "code",
   "execution_count": 55,
   "id": "alert-location",
   "metadata": {},
   "outputs": [],
   "source": [
    "a=\"shivam\""
   ]
  },
  {
   "cell_type": "code",
   "execution_count": 56,
   "id": "valued-nursery",
   "metadata": {},
   "outputs": [
    {
     "data": {
      "text/plain": [
       "'m'"
      ]
     },
     "execution_count": 56,
     "metadata": {},
     "output_type": "execute_result"
    }
   ],
   "source": [
    "a[-1] # backward indexing"
   ]
  },
  {
   "cell_type": "code",
   "execution_count": null,
   "id": "imported-automation",
   "metadata": {},
   "outputs": [],
   "source": []
  },
  {
   "cell_type": "code",
   "execution_count": 66,
   "id": "charitable-veteran",
   "metadata": {},
   "outputs": [],
   "source": [
    "# list slicing\n",
    "a = [1,2,3,4,5]"
   ]
  },
  {
   "cell_type": "code",
   "execution_count": 67,
   "id": "orange-museum",
   "metadata": {},
   "outputs": [
    {
     "data": {
      "text/plain": [
       "[2, 3, 4]"
      ]
     },
     "execution_count": 67,
     "metadata": {},
     "output_type": "execute_result"
    }
   ],
   "source": [
    "a[1:4]"
   ]
  },
  {
   "cell_type": "code",
   "execution_count": 69,
   "id": "direct-surprise",
   "metadata": {},
   "outputs": [
    {
     "data": {
      "text/plain": [
       "[1, 3, 5]"
      ]
     },
     "execution_count": 69,
     "metadata": {},
     "output_type": "execute_result"
    }
   ],
   "source": [
    "a[0:5:2] # slicing with a jump of 2"
   ]
  },
  {
   "cell_type": "code",
   "execution_count": 70,
   "id": "forbidden-clothing",
   "metadata": {},
   "outputs": [],
   "source": [
    "a =\"shivam\""
   ]
  },
  {
   "cell_type": "code",
   "execution_count": 72,
   "id": "coordinate-malta",
   "metadata": {},
   "outputs": [
    {
     "data": {
      "text/plain": [
       "'mavihs'"
      ]
     },
     "execution_count": 72,
     "metadata": {},
     "output_type": "execute_result"
    }
   ],
   "source": [
    "a[::-1] # reversing a string"
   ]
  },
  {
   "cell_type": "code",
   "execution_count": 73,
   "id": "progressive-israeli",
   "metadata": {},
   "outputs": [],
   "source": [
    "# checking palindrome\n",
    "a = \"shivam\""
   ]
  },
  {
   "cell_type": "code",
   "execution_count": 74,
   "id": "careful-spine",
   "metadata": {},
   "outputs": [
    {
     "data": {
      "text/plain": [
       "False"
      ]
     },
     "execution_count": 74,
     "metadata": {},
     "output_type": "execute_result"
    }
   ],
   "source": [
    "a == a[::-1]"
   ]
  },
  {
   "cell_type": "code",
   "execution_count": 75,
   "id": "knowing-component",
   "metadata": {},
   "outputs": [],
   "source": [
    "a = \"nitin\""
   ]
  },
  {
   "cell_type": "code",
   "execution_count": 78,
   "id": "rational-monkey",
   "metadata": {},
   "outputs": [
    {
     "data": {
      "text/plain": [
       "True"
      ]
     },
     "execution_count": 78,
     "metadata": {},
     "output_type": "execute_result"
    }
   ],
   "source": [
    "a == a[::-1]"
   ]
  },
  {
   "cell_type": "code",
   "execution_count": null,
   "id": "wanted-fabric",
   "metadata": {},
   "outputs": [],
   "source": []
  },
  {
   "cell_type": "markdown",
   "id": "chronic-scenario",
   "metadata": {},
   "source": [
    "### Updating the list\n",
    "- insert\n",
    "- append"
   ]
  },
  {
   "cell_type": "code",
   "execution_count": 88,
   "id": "supposed-spread",
   "metadata": {},
   "outputs": [],
   "source": [
    "a = [1,2,3,4,5]"
   ]
  },
  {
   "cell_type": "code",
   "execution_count": 89,
   "id": "informed-falls",
   "metadata": {},
   "outputs": [],
   "source": [
    "a.insert(1,'shivam')"
   ]
  },
  {
   "cell_type": "code",
   "execution_count": 90,
   "id": "anonymous-competition",
   "metadata": {},
   "outputs": [
    {
     "data": {
      "text/plain": [
       "[1, 'shivam', 2, 3, 4, 5]"
      ]
     },
     "execution_count": 90,
     "metadata": {},
     "output_type": "execute_result"
    }
   ],
   "source": [
    "a"
   ]
  },
  {
   "cell_type": "code",
   "execution_count": 91,
   "id": "opening-queens",
   "metadata": {},
   "outputs": [],
   "source": [
    "a.append('kumar')"
   ]
  },
  {
   "cell_type": "code",
   "execution_count": 92,
   "id": "competent-vegetation",
   "metadata": {},
   "outputs": [
    {
     "data": {
      "text/plain": [
       "[1, 'shivam', 2, 3, 4, 5, 'kumar']"
      ]
     },
     "execution_count": 92,
     "metadata": {},
     "output_type": "execute_result"
    }
   ],
   "source": [
    "a"
   ]
  },
  {
   "cell_type": "code",
   "execution_count": null,
   "id": "informal-setting",
   "metadata": {},
   "outputs": [],
   "source": []
  },
  {
   "cell_type": "markdown",
   "id": "transparent-stream",
   "metadata": {},
   "source": [
    "### Deleting list elements\n",
    "- del\n",
    "- pop\n",
    "- remove"
   ]
  },
  {
   "cell_type": "code",
   "execution_count": 96,
   "id": "commercial-collective",
   "metadata": {},
   "outputs": [],
   "source": [
    "a = [1,2,3,4,5]"
   ]
  },
  {
   "cell_type": "code",
   "execution_count": 97,
   "id": "happy-homeless",
   "metadata": {},
   "outputs": [
    {
     "data": {
      "text/plain": [
       "5"
      ]
     },
     "execution_count": 97,
     "metadata": {},
     "output_type": "execute_result"
    }
   ],
   "source": [
    "a.pop() # pop last element of the list"
   ]
  },
  {
   "cell_type": "code",
   "execution_count": 87,
   "id": "juvenile-engine",
   "metadata": {},
   "outputs": [
    {
     "data": {
      "text/plain": [
       "[1, 2, 3, 4]"
      ]
     },
     "execution_count": 87,
     "metadata": {},
     "output_type": "execute_result"
    }
   ],
   "source": [
    "a"
   ]
  },
  {
   "cell_type": "code",
   "execution_count": 98,
   "id": "scenic-coating",
   "metadata": {},
   "outputs": [
    {
     "data": {
      "text/plain": [
       "2"
      ]
     },
     "execution_count": 98,
     "metadata": {},
     "output_type": "execute_result"
    }
   ],
   "source": [
    "a.pop(1)"
   ]
  },
  {
   "cell_type": "code",
   "execution_count": 99,
   "id": "historic-climb",
   "metadata": {},
   "outputs": [],
   "source": [
    "a = [\"shivam\", \"shahsank\", \"aamir\"]"
   ]
  },
  {
   "cell_type": "code",
   "execution_count": 100,
   "id": "smoking-nicholas",
   "metadata": {},
   "outputs": [],
   "source": [
    "a.remove(\"aamir\")"
   ]
  },
  {
   "cell_type": "code",
   "execution_count": 101,
   "id": "ranking-missouri",
   "metadata": {},
   "outputs": [
    {
     "data": {
      "text/plain": [
       "['shivam', 'shahsank']"
      ]
     },
     "execution_count": 101,
     "metadata": {},
     "output_type": "execute_result"
    }
   ],
   "source": [
    "a"
   ]
  },
  {
   "cell_type": "code",
   "execution_count": 102,
   "id": "hybrid-federation",
   "metadata": {},
   "outputs": [],
   "source": [
    "del a[1]"
   ]
  },
  {
   "cell_type": "code",
   "execution_count": 103,
   "id": "forward-growing",
   "metadata": {},
   "outputs": [
    {
     "data": {
      "text/plain": [
       "['shivam']"
      ]
     },
     "execution_count": 103,
     "metadata": {},
     "output_type": "execute_result"
    }
   ],
   "source": [
    "a"
   ]
  },
  {
   "cell_type": "code",
   "execution_count": 104,
   "id": "patient-alias",
   "metadata": {},
   "outputs": [],
   "source": [
    "del a"
   ]
  },
  {
   "cell_type": "code",
   "execution_count": 106,
   "id": "completed-mother",
   "metadata": {},
   "outputs": [
    {
     "ename": "NameError",
     "evalue": "name 'a' is not defined",
     "output_type": "error",
     "traceback": [
      "\u001b[1;31m---------------------------------------------------------------------------\u001b[0m",
      "\u001b[1;31mNameError\u001b[0m                                 Traceback (most recent call last)",
      "\u001b[1;32m<ipython-input-106-3f786850e387>\u001b[0m in \u001b[0;36m<module>\u001b[1;34m\u001b[0m\n\u001b[1;32m----> 1\u001b[1;33m \u001b[0ma\u001b[0m\u001b[1;33m\u001b[0m\u001b[1;33m\u001b[0m\u001b[0m\n\u001b[0m",
      "\u001b[1;31mNameError\u001b[0m: name 'a' is not defined"
     ]
    }
   ],
   "source": [
    "a"
   ]
  },
  {
   "cell_type": "code",
   "execution_count": null,
   "id": "entitled-wesley",
   "metadata": {},
   "outputs": [],
   "source": []
  },
  {
   "cell_type": "code",
   "execution_count": null,
   "id": "british-filename",
   "metadata": {},
   "outputs": [],
   "source": []
  },
  {
   "cell_type": "markdown",
   "id": "gentle-recovery",
   "metadata": {},
   "source": [
    "### Sorting and reversing\n",
    "- sort and sorted\n",
    "- reverse and reversed"
   ]
  },
  {
   "cell_type": "code",
   "execution_count": 107,
   "id": "indie-trial",
   "metadata": {},
   "outputs": [],
   "source": [
    "a = [1,2,3,4,5]"
   ]
  },
  {
   "cell_type": "code",
   "execution_count": 108,
   "id": "viral-alcohol",
   "metadata": {},
   "outputs": [
    {
     "data": {
      "text/plain": [
       "[1, 2, 3, 4, 5]"
      ]
     },
     "execution_count": 108,
     "metadata": {},
     "output_type": "execute_result"
    }
   ],
   "source": [
    "sorted(a)"
   ]
  },
  {
   "cell_type": "code",
   "execution_count": 109,
   "id": "daily-melissa",
   "metadata": {},
   "outputs": [],
   "source": [
    "a.sort()"
   ]
  },
  {
   "cell_type": "code",
   "execution_count": 110,
   "id": "handed-norway",
   "metadata": {},
   "outputs": [
    {
     "data": {
      "text/plain": [
       "[1, 2, 3, 4, 5]"
      ]
     },
     "execution_count": 110,
     "metadata": {},
     "output_type": "execute_result"
    }
   ],
   "source": [
    "a"
   ]
  },
  {
   "cell_type": "code",
   "execution_count": 111,
   "id": "loaded-bride",
   "metadata": {},
   "outputs": [
    {
     "name": "stdout",
     "output_type": "stream",
     "text": [
      "5\n",
      "4\n",
      "3\n",
      "2\n",
      "1\n"
     ]
    }
   ],
   "source": [
    "for i in reversed(a):\n",
    "    print(i)"
   ]
  },
  {
   "cell_type": "code",
   "execution_count": 113,
   "id": "instructional-scenario",
   "metadata": {},
   "outputs": [],
   "source": [
    "a.reverse()"
   ]
  },
  {
   "cell_type": "code",
   "execution_count": 114,
   "id": "worst-hazard",
   "metadata": {},
   "outputs": [
    {
     "data": {
      "text/plain": [
       "[5, 4, 3, 2, 1]"
      ]
     },
     "execution_count": 114,
     "metadata": {},
     "output_type": "execute_result"
    }
   ],
   "source": [
    "a"
   ]
  },
  {
   "cell_type": "code",
   "execution_count": null,
   "id": "aboriginal-straight",
   "metadata": {},
   "outputs": [],
   "source": []
  },
  {
   "cell_type": "code",
   "execution_count": null,
   "id": "adjusted-closer",
   "metadata": {},
   "outputs": [],
   "source": []
  },
  {
   "cell_type": "markdown",
   "id": "sound-expansion",
   "metadata": {},
   "source": [
    "### Tuple"
   ]
  },
  {
   "cell_type": "code",
   "execution_count": 116,
   "id": "preliminary-mobility",
   "metadata": {},
   "outputs": [],
   "source": [
    "a = (1,2,3,4,5)"
   ]
  },
  {
   "cell_type": "code",
   "execution_count": 117,
   "id": "greater-console",
   "metadata": {},
   "outputs": [
    {
     "ename": "TypeError",
     "evalue": "'tuple' object does not support item assignment",
     "output_type": "error",
     "traceback": [
      "\u001b[1;31m---------------------------------------------------------------------------\u001b[0m",
      "\u001b[1;31mTypeError\u001b[0m                                 Traceback (most recent call last)",
      "\u001b[1;32m<ipython-input-117-051a4cbb8141>\u001b[0m in \u001b[0;36m<module>\u001b[1;34m\u001b[0m\n\u001b[1;32m----> 1\u001b[1;33m \u001b[0ma\u001b[0m\u001b[1;33m[\u001b[0m\u001b[1;36m0\u001b[0m\u001b[1;33m]\u001b[0m\u001b[1;33m=\u001b[0m\u001b[1;36m8\u001b[0m\u001b[1;33m\u001b[0m\u001b[1;33m\u001b[0m\u001b[0m\n\u001b[0m",
      "\u001b[1;31mTypeError\u001b[0m: 'tuple' object does not support item assignment"
     ]
    }
   ],
   "source": [
    "a[0]=8"
   ]
  },
  {
   "cell_type": "code",
   "execution_count": 118,
   "id": "split-metropolitan",
   "metadata": {},
   "outputs": [],
   "source": [
    "def func(*args):\n",
    "    print(args)"
   ]
  },
  {
   "cell_type": "code",
   "execution_count": 119,
   "id": "upper-screw",
   "metadata": {},
   "outputs": [
    {
     "name": "stdout",
     "output_type": "stream",
     "text": [
      "(1, 2, 3, 4)\n"
     ]
    }
   ],
   "source": [
    "func(1,2,3,4)"
   ]
  },
  {
   "cell_type": "code",
   "execution_count": 123,
   "id": "coral-excess",
   "metadata": {},
   "outputs": [],
   "source": [
    "a=1,2"
   ]
  },
  {
   "cell_type": "code",
   "execution_count": 124,
   "id": "familiar-solomon",
   "metadata": {},
   "outputs": [],
   "source": [
    "c,d = a"
   ]
  },
  {
   "cell_type": "code",
   "execution_count": 125,
   "id": "aerial-burns",
   "metadata": {},
   "outputs": [
    {
     "data": {
      "text/plain": [
       "1"
      ]
     },
     "execution_count": 125,
     "metadata": {},
     "output_type": "execute_result"
    }
   ],
   "source": [
    "c"
   ]
  },
  {
   "cell_type": "code",
   "execution_count": 126,
   "id": "coordinated-computer",
   "metadata": {},
   "outputs": [
    {
     "data": {
      "text/plain": [
       "2"
      ]
     },
     "execution_count": 126,
     "metadata": {},
     "output_type": "execute_result"
    }
   ],
   "source": [
    "d"
   ]
  },
  {
   "cell_type": "code",
   "execution_count": 120,
   "id": "black-carry",
   "metadata": {},
   "outputs": [],
   "source": [
    "# swapping two variables\n",
    "a=5\n",
    "b=9"
   ]
  },
  {
   "cell_type": "code",
   "execution_count": 121,
   "id": "driving-fairy",
   "metadata": {},
   "outputs": [],
   "source": [
    "a,b = b,a"
   ]
  },
  {
   "cell_type": "code",
   "execution_count": 122,
   "id": "continuous-filing",
   "metadata": {},
   "outputs": [
    {
     "name": "stdout",
     "output_type": "stream",
     "text": [
      "9 5\n"
     ]
    }
   ],
   "source": [
    "print(a,b)"
   ]
  },
  {
   "cell_type": "code",
   "execution_count": null,
   "id": "improved-expert",
   "metadata": {},
   "outputs": [],
   "source": []
  },
  {
   "cell_type": "markdown",
   "id": "local-station",
   "metadata": {},
   "source": [
    "### List to tuple and Tuple to list"
   ]
  },
  {
   "cell_type": "code",
   "execution_count": 132,
   "id": "devoted-haiti",
   "metadata": {},
   "outputs": [],
   "source": [
    "a = [1,2,3,4]"
   ]
  },
  {
   "cell_type": "code",
   "execution_count": 133,
   "id": "seeing-brother",
   "metadata": {},
   "outputs": [
    {
     "data": {
      "text/plain": [
       "[1, 2, 3, 4]"
      ]
     },
     "execution_count": 133,
     "metadata": {},
     "output_type": "execute_result"
    }
   ],
   "source": [
    "a"
   ]
  },
  {
   "cell_type": "code",
   "execution_count": 134,
   "id": "multiple-activity",
   "metadata": {},
   "outputs": [],
   "source": [
    "a = list(a)"
   ]
  },
  {
   "cell_type": "code",
   "execution_count": 136,
   "id": "interior-heather",
   "metadata": {},
   "outputs": [
    {
     "data": {
      "text/plain": [
       "[1, 2, 3, 4]"
      ]
     },
     "execution_count": 136,
     "metadata": {},
     "output_type": "execute_result"
    }
   ],
   "source": [
    "a"
   ]
  },
  {
   "cell_type": "code",
   "execution_count": 139,
   "id": "modified-confusion",
   "metadata": {},
   "outputs": [],
   "source": [
    "a = list(range(15))"
   ]
  },
  {
   "cell_type": "code",
   "execution_count": 140,
   "id": "political-checkout",
   "metadata": {},
   "outputs": [
    {
     "data": {
      "text/plain": [
       "[0, 1, 2, 3, 4, 5, 6, 7, 8, 9, 10, 11, 12, 13, 14]"
      ]
     },
     "execution_count": 140,
     "metadata": {},
     "output_type": "execute_result"
    }
   ],
   "source": [
    "a"
   ]
  },
  {
   "cell_type": "code",
   "execution_count": 141,
   "id": "swiss-medication",
   "metadata": {},
   "outputs": [],
   "source": [
    "a = list(\"Shivam\")"
   ]
  },
  {
   "cell_type": "code",
   "execution_count": 142,
   "id": "alleged-compiler",
   "metadata": {},
   "outputs": [
    {
     "data": {
      "text/plain": [
       "['S', 'h', 'i', 'v', 'a', 'm']"
      ]
     },
     "execution_count": 142,
     "metadata": {},
     "output_type": "execute_result"
    }
   ],
   "source": [
    "a"
   ]
  },
  {
   "cell_type": "code",
   "execution_count": 143,
   "id": "armed-export",
   "metadata": {},
   "outputs": [],
   "source": [
    "a = tuple(a)"
   ]
  },
  {
   "cell_type": "code",
   "execution_count": 144,
   "id": "conceptual-sheriff",
   "metadata": {},
   "outputs": [
    {
     "data": {
      "text/plain": [
       "('S', 'h', 'i', 'v', 'a', 'm')"
      ]
     },
     "execution_count": 144,
     "metadata": {},
     "output_type": "execute_result"
    }
   ],
   "source": [
    "a"
   ]
  },
  {
   "cell_type": "code",
   "execution_count": null,
   "id": "separated-edinburgh",
   "metadata": {},
   "outputs": [],
   "source": []
  },
  {
   "cell_type": "markdown",
   "id": "olympic-participation",
   "metadata": {},
   "source": [
    "### Returning multiple values from functions"
   ]
  },
  {
   "cell_type": "code",
   "execution_count": 146,
   "id": "different-award",
   "metadata": {},
   "outputs": [],
   "source": [
    "def addSubtract(a,b):\n",
    "    return a+b, a-b"
   ]
  },
  {
   "cell_type": "code",
   "execution_count": 147,
   "id": "changing-wayne",
   "metadata": {},
   "outputs": [
    {
     "data": {
      "text/plain": [
       "(12, 6)"
      ]
     },
     "execution_count": 147,
     "metadata": {},
     "output_type": "execute_result"
    }
   ],
   "source": [
    "addSubtract(9,3)"
   ]
  },
  {
   "cell_type": "code",
   "execution_count": 148,
   "id": "bottom-mining",
   "metadata": {},
   "outputs": [],
   "source": [
    "sum, diff = addSubtract(9,3)"
   ]
  },
  {
   "cell_type": "code",
   "execution_count": null,
   "id": "brown-cowboy",
   "metadata": {},
   "outputs": [],
   "source": [
    "sum"
   ]
  },
  {
   "cell_type": "code",
   "execution_count": 150,
   "id": "burning-series",
   "metadata": {},
   "outputs": [
    {
     "data": {
      "text/plain": [
       "6"
      ]
     },
     "execution_count": 150,
     "metadata": {},
     "output_type": "execute_result"
    }
   ],
   "source": [
    "diff"
   ]
  },
  {
   "cell_type": "code",
   "execution_count": null,
   "id": "fundamental-desktop",
   "metadata": {},
   "outputs": [],
   "source": []
  },
  {
   "cell_type": "code",
   "execution_count": null,
   "id": "vietnamese-membrane",
   "metadata": {},
   "outputs": [],
   "source": []
  },
  {
   "cell_type": "markdown",
   "id": "wanted-assistant",
   "metadata": {},
   "source": [
    "### Dictionary"
   ]
  },
  {
   "cell_type": "code",
   "execution_count": 154,
   "id": "serious-porter",
   "metadata": {},
   "outputs": [],
   "source": [
    "a = {\n",
    "    \"name\":\"shivam\",\n",
    "    \"marks\":96,\n",
    "    \"subjects\": [\"eng\",\"maths\"],\n",
    "    \"friends\":{\n",
    "        \"aamir\":\"android\"\n",
    "    }\n",
    "}"
   ]
  },
  {
   "cell_type": "code",
   "execution_count": 155,
   "id": "japanese-organic",
   "metadata": {},
   "outputs": [
    {
     "data": {
      "text/plain": [
       "{'aamir': 'android'}"
      ]
     },
     "execution_count": 155,
     "metadata": {},
     "output_type": "execute_result"
    }
   ],
   "source": [
    "a[\"friends\"]"
   ]
  },
  {
   "cell_type": "code",
   "execution_count": 157,
   "id": "worse-explosion",
   "metadata": {},
   "outputs": [
    {
     "data": {
      "text/plain": [
       "'shivam'"
      ]
     },
     "execution_count": 157,
     "metadata": {},
     "output_type": "execute_result"
    }
   ],
   "source": [
    "a[\"name\"]"
   ]
  },
  {
   "cell_type": "code",
   "execution_count": 158,
   "id": "fatal-staff",
   "metadata": {},
   "outputs": [
    {
     "name": "stdout",
     "output_type": "stream",
     "text": [
      "name\n",
      "marks\n",
      "subjects\n",
      "friends\n"
     ]
    }
   ],
   "source": [
    "for key in a :\n",
    "    print(key)"
   ]
  },
  {
   "cell_type": "code",
   "execution_count": null,
   "id": "continuing-cement",
   "metadata": {},
   "outputs": [],
   "source": []
  },
  {
   "cell_type": "markdown",
   "id": "golden-happening",
   "metadata": {},
   "source": [
    "### Some important dict methods\n",
    "- get()\n",
    "- items()\n",
    "- keys()\n",
    "- values()\n",
    "- clear()"
   ]
  },
  {
   "cell_type": "code",
   "execution_count": 159,
   "id": "valued-landing",
   "metadata": {},
   "outputs": [
    {
     "name": "stdout",
     "output_type": "stream",
     "text": [
      "('name', 'shivam')\n",
      "('marks', 96)\n",
      "('subjects', ['eng', 'maths'])\n",
      "('friends', {'aamir': 'android'})\n"
     ]
    }
   ],
   "source": [
    "for item in a.items():\n",
    "    print(item)"
   ]
  },
  {
   "cell_type": "code",
   "execution_count": 163,
   "id": "confused-enlargement",
   "metadata": {},
   "outputs": [
    {
     "name": "stdout",
     "output_type": "stream",
     "text": [
      "name => shivam\n",
      "marks => 96\n",
      "subjects => ['eng', 'maths']\n",
      "friends => {'aamir': 'android'}\n"
     ]
    }
   ],
   "source": [
    "for key, value in a.items():\n",
    "    print(key, \"=>\", value)"
   ]
  },
  {
   "cell_type": "code",
   "execution_count": 166,
   "id": "descending-petersburg",
   "metadata": {},
   "outputs": [
    {
     "name": "stdout",
     "output_type": "stream",
     "text": [
      "name\n",
      "marks\n",
      "subjects\n",
      "friends\n"
     ]
    }
   ],
   "source": [
    "for key in a.keys():\n",
    "    print(key)"
   ]
  },
  {
   "cell_type": "code",
   "execution_count": 167,
   "id": "handled-modification",
   "metadata": {},
   "outputs": [
    {
     "name": "stdout",
     "output_type": "stream",
     "text": [
      "shivam\n",
      "96\n",
      "['eng', 'maths']\n",
      "{'aamir': 'android'}\n"
     ]
    }
   ],
   "source": [
    "for val in a.values():\n",
    "    print(val)"
   ]
  },
  {
   "cell_type": "code",
   "execution_count": 171,
   "id": "accessible-change",
   "metadata": {},
   "outputs": [
    {
     "data": {
      "text/plain": [
       "'shivam'"
      ]
     },
     "execution_count": 171,
     "metadata": {},
     "output_type": "execute_result"
    }
   ],
   "source": [
    "a.get(\"name\") "
   ]
  },
  {
   "cell_type": "code",
   "execution_count": 173,
   "id": "private-realtor",
   "metadata": {},
   "outputs": [],
   "source": [
    "a.get(\"name1\") # it will not throw any error"
   ]
  },
  {
   "cell_type": "code",
   "execution_count": 174,
   "id": "sorted-crowd",
   "metadata": {},
   "outputs": [],
   "source": [
    "a.clear()"
   ]
  },
  {
   "cell_type": "code",
   "execution_count": 175,
   "id": "cloudy-repository",
   "metadata": {},
   "outputs": [
    {
     "data": {
      "text/plain": [
       "{}"
      ]
     },
     "execution_count": 175,
     "metadata": {},
     "output_type": "execute_result"
    }
   ],
   "source": [
    "a"
   ]
  },
  {
   "cell_type": "code",
   "execution_count": null,
   "id": "activated-situation",
   "metadata": {},
   "outputs": [],
   "source": []
  }
 ],
 "metadata": {
  "kernelspec": {
   "display_name": "Python 3",
   "language": "python",
   "name": "python3"
  },
  "language_info": {
   "codemirror_mode": {
    "name": "ipython",
    "version": 3
   },
   "file_extension": ".py",
   "mimetype": "text/x-python",
   "name": "python",
   "nbconvert_exporter": "python",
   "pygments_lexer": "ipython3",
   "version": "3.9.2"
  }
 },
 "nbformat": 4,
 "nbformat_minor": 5
}
