{
 "cells": [
  {
   "cell_type": "markdown",
   "id": "compact-affiliate",
   "metadata": {},
   "source": [
    "### 1. Comments & Data Types"
   ]
  },
  {
   "cell_type": "code",
   "execution_count": 2,
   "id": "sought-operator",
   "metadata": {},
   "outputs": [
    {
     "name": "stdout",
     "output_type": "stream",
     "text": [
      "This is a comment\n"
     ]
    }
   ],
   "source": [
    "#this is a comment\n",
    "print(\"This is a comment\")"
   ]
  },
  {
   "cell_type": "code",
   "execution_count": 5,
   "id": "affiliated-pavilion",
   "metadata": {},
   "outputs": [
    {
     "name": "stdout",
     "output_type": "stream",
     "text": [
      "This is a multiline comment\n"
     ]
    }
   ],
   "source": [
    "'''\n",
    "This is a \n",
    "multiline comment\n",
    "'''\n",
    "print(\"This is a multiline comment\")"
   ]
  },
  {
   "cell_type": "code",
   "execution_count": 9,
   "id": "statewide-board",
   "metadata": {},
   "outputs": [
    {
     "name": "stdout",
     "output_type": "stream",
     "text": [
      "<class 'int'>\n",
      "<class 'float'>\n"
     ]
    }
   ],
   "source": [
    "a=5\n",
    "b=1.5\n",
    "print(type(a))\n",
    "print(type(b))"
   ]
  },
  {
   "cell_type": "code",
   "execution_count": 2,
   "id": "later-triangle",
   "metadata": {
    "scrolled": true
   },
   "outputs": [
    {
     "name": "stdout",
     "output_type": "stream",
     "text": [
      "<class 'complex'>\n"
     ]
    },
    {
     "data": {
      "text/plain": [
       "complex"
      ]
     },
     "execution_count": 2,
     "metadata": {},
     "output_type": "execute_result"
    }
   ],
   "source": [
    "a=1+5j\n",
    "print(type(a))\n",
    "type(a)"
   ]
  },
  {
   "cell_type": "code",
   "execution_count": 10,
   "id": "raised-aruba",
   "metadata": {},
   "outputs": [
    {
     "name": "stdout",
     "output_type": "stream",
     "text": [
      "<class 'str'>\n",
      "<class 'str'>\n"
     ]
    },
    {
     "data": {
      "text/plain": [
       "str"
      ]
     },
     "execution_count": 10,
     "metadata": {},
     "output_type": "execute_result"
    }
   ],
   "source": [
    "a=\"Sihvam loves python\"\n",
    "b='S'\n",
    "print(type(a))\n",
    "print(type(b))\n",
    "type(b)\n",
    "# there is no char data type in python, all are string"
   ]
  },
  {
   "cell_type": "code",
   "execution_count": 19,
   "id": "republican-notification",
   "metadata": {},
   "outputs": [
    {
     "name": "stdout",
     "output_type": "stream",
     "text": [
      "python\n",
      "coding blocks\n",
      "\n",
      "this is a\n",
      "multiline string\n",
      "\n",
      "\n",
      "this is also a\n",
      "multiline string\n",
      "\n"
     ]
    }
   ],
   "source": [
    "# multiline string\n",
    "a=\"python\"\n",
    "\n",
    "b='coding blocks'\n",
    "\n",
    "c='''\n",
    "this is a\n",
    "multiline string\n",
    "'''\n",
    "\n",
    "d=\"\"\"\n",
    "this is also a\n",
    "multiline string\n",
    "\"\"\"\n",
    "\n",
    "print(a)\n",
    "print(b)\n",
    "print(c)\n",
    "print(d)"
   ]
  },
  {
   "cell_type": "markdown",
   "id": "conceptual-birthday",
   "metadata": {},
   "source": [
    "### 2. Arithmetic Operators (+,-,*,**,/,//,%)"
   ]
  },
  {
   "cell_type": "code",
   "execution_count": 1,
   "id": "declared-national",
   "metadata": {},
   "outputs": [
    {
     "name": "stdout",
     "output_type": "stream",
     "text": [
      "31\n",
      "-11\n",
      "210\n",
      "0.47619047619047616\n",
      "0.4762\n",
      "0\n",
      "1000000000000000000000\n",
      "1\n"
     ]
    }
   ],
   "source": [
    "a=10\n",
    "b=21\n",
    "print(a+b)\n",
    "print(a-b)\n",
    "print(a*b)\n",
    "print(a/b)\n",
    "print(\"%0.4f\"%(a/b))\n",
    "print(a//b) # floor division\n",
    "\n",
    "# exponent/power function\n",
    "\n",
    "print(a**b)\n",
    "print(b%a)"
   ]
  },
  {
   "cell_type": "markdown",
   "id": "shared-break",
   "metadata": {},
   "source": [
    "### 3. Control Flow\n",
    "#### Indentation Rule :\n",
    "- 2 spaces\n",
    "- 4 spaces\n",
    "- 1 tab"
   ]
  },
  {
   "cell_type": "markdown",
   "id": "compliant-cologne",
   "metadata": {},
   "source": [
    "### Conditional statement"
   ]
  },
  {
   "cell_type": "code",
   "execution_count": 38,
   "id": "deadly-convert",
   "metadata": {},
   "outputs": [
    {
     "name": "stdout",
     "output_type": "stream",
     "text": [
      "Zero\n"
     ]
    }
   ],
   "source": [
    "a=0\n",
    "if a>0:\n",
    "    print(\"Positive\")\n",
    "elif a==0:\n",
    "    print(\"Zero\")\n",
    "else:\n",
    "    print(\"Negative\")"
   ]
  },
  {
   "cell_type": "code",
   "execution_count": 37,
   "id": "ultimate-mathematics",
   "metadata": {},
   "outputs": [
    {
     "name": "stdout",
     "output_type": "stream",
     "text": [
      "Positive\n",
      "Divisible by 5\n"
     ]
    }
   ],
   "source": [
    "# nested if-else\n",
    "a=10\n",
    "if a>0:\n",
    "    print(\"Positive\")\n",
    "    if a%5==0:\n",
    "        print(\"Divisible by 5\")\n",
    "else:\n",
    "    print(\"Negative\")"
   ]
  },
  {
   "cell_type": "markdown",
   "id": "ceramic-trace",
   "metadata": {},
   "source": [
    "### Looping statement"
   ]
  },
  {
   "cell_type": "code",
   "execution_count": 40,
   "id": "wooden-palmer",
   "metadata": {},
   "outputs": [
    {
     "name": "stdout",
     "output_type": "stream",
     "text": [
      "10\n",
      "9\n",
      "8\n",
      "7\n",
      "6\n",
      "5\n",
      "4\n",
      "3\n",
      "2\n",
      "1\n"
     ]
    }
   ],
   "source": [
    "# while loop\n",
    "a=10\n",
    "\n",
    "while a>0 :\n",
    "    print(a)\n",
    "    a -= 1"
   ]
  },
  {
   "cell_type": "code",
   "execution_count": 63,
   "id": "younger-compact",
   "metadata": {},
   "outputs": [
    {
     "name": "stdout",
     "output_type": "stream",
     "text": [
      "p\n",
      "y\n",
      "t\n",
      "h\n",
      "o\n",
      "n\n"
     ]
    }
   ],
   "source": [
    "# for loop\n",
    "for i in \"python\":\n",
    "    print(i)\n",
    "# here 'i' is iterator and 'python' is iterable\n",
    "# anything is iterable if it can be breakdown into atomic form\n",
    "# python can break into \"p\", \"y\", \"t\", \"h\", \"o\", \"n\", so 'string' object is iterable\n",
    "# an integer, like 1,2,... isn't iterable, so 'int' object is not iterable"
   ]
  },
  {
   "cell_type": "code",
   "execution_count": 48,
   "id": "sufficient-withdrawal",
   "metadata": {},
   "outputs": [
    {
     "name": "stdout",
     "output_type": "stream",
     "text": [
      "0\n",
      "1\n",
      "2\n",
      "3\n",
      "4\n"
     ]
    }
   ],
   "source": [
    "for i in range(5):\n",
    "    print (i)\n",
    "# print five numbers starting from 0 to 4, i.e., [0,5)"
   ]
  },
  {
   "cell_type": "code",
   "execution_count": 47,
   "id": "occasional-debate",
   "metadata": {},
   "outputs": [
    {
     "name": "stdout",
     "output_type": "stream",
     "text": [
      "2\n",
      "3\n",
      "4\n",
      "5\n",
      "6\n",
      "7\n",
      "8\n",
      "9\n"
     ]
    }
   ],
   "source": [
    "for i in range(2,10):\n",
    "    print(i)\n",
    "# print numbers in range 2-10 excluding 10, i.e., [2,10)"
   ]
  },
  {
   "cell_type": "code",
   "execution_count": 62,
   "id": "multiple-large",
   "metadata": {},
   "outputs": [
    {
     "name": "stdout",
     "output_type": "stream",
     "text": [
      "1\n",
      "3\n",
      "5\n",
      "7\n",
      "9\n"
     ]
    }
   ],
   "source": [
    "for i in range(1,11,2):\n",
    "    print(i)\n",
    "# print numbers in range 1-11 with a jump of 2, as 1,3,5,7,9 in this case"
   ]
  },
  {
   "cell_type": "markdown",
   "id": "realistic-guess",
   "metadata": {},
   "source": [
    "### Comparison Operators"
   ]
  },
  {
   "cell_type": "code",
   "execution_count": 2,
   "id": "sustainable-medline",
   "metadata": {},
   "outputs": [
    {
     "data": {
      "text/plain": [
       "True"
      ]
     },
     "execution_count": 2,
     "metadata": {},
     "output_type": "execute_result"
    }
   ],
   "source": [
    "\"abc\">\"abb\""
   ]
  },
  {
   "cell_type": "code",
   "execution_count": 3,
   "id": "collectible-kenya",
   "metadata": {},
   "outputs": [
    {
     "data": {
      "text/plain": [
       "False"
      ]
     },
     "execution_count": 3,
     "metadata": {},
     "output_type": "execute_result"
    }
   ],
   "source": [
    "\"abc\">\"abd\""
   ]
  },
  {
   "cell_type": "code",
   "execution_count": 4,
   "id": "functional-marathon",
   "metadata": {},
   "outputs": [
    {
     "data": {
      "text/plain": [
       "False"
      ]
     },
     "execution_count": 4,
     "metadata": {},
     "output_type": "execute_result"
    }
   ],
   "source": [
    "\"ABC\"==\"abc\"\n",
    "# this returns false because python compares the ASCII values of characters"
   ]
  },
  {
   "cell_type": "code",
   "execution_count": 5,
   "id": "central-player",
   "metadata": {},
   "outputs": [
    {
     "data": {
      "text/plain": [
       "65"
      ]
     },
     "execution_count": 5,
     "metadata": {},
     "output_type": "execute_result"
    }
   ],
   "source": [
    "# to check the ASCII value of a character, \"ord()\" function is used\n",
    "ord(\"A\")"
   ]
  },
  {
   "cell_type": "code",
   "execution_count": 6,
   "id": "piano-channel",
   "metadata": {},
   "outputs": [
    {
     "data": {
      "text/plain": [
       "97"
      ]
     },
     "execution_count": 6,
     "metadata": {},
     "output_type": "execute_result"
    }
   ],
   "source": [
    "ord(\"a\")"
   ]
  },
  {
   "cell_type": "markdown",
   "id": "bacterial-interpretation",
   "metadata": {},
   "source": [
    "### Logical Operators\n",
    "not, and, or"
   ]
  },
  {
   "cell_type": "code",
   "execution_count": 1,
   "id": "furnished-rabbit",
   "metadata": {},
   "outputs": [],
   "source": [
    "a=True"
   ]
  },
  {
   "cell_type": "code",
   "execution_count": 2,
   "id": "ranging-banks",
   "metadata": {},
   "outputs": [
    {
     "data": {
      "text/plain": [
       "True"
      ]
     },
     "execution_count": 2,
     "metadata": {},
     "output_type": "execute_result"
    }
   ],
   "source": [
    "isinstance(1, int)"
   ]
  },
  {
   "cell_type": "code",
   "execution_count": 3,
   "id": "introductory-looking",
   "metadata": {},
   "outputs": [
    {
     "data": {
      "text/plain": [
       "True"
      ]
     },
     "execution_count": 3,
     "metadata": {},
     "output_type": "execute_result"
    }
   ],
   "source": [
    "isinstance(True, int)"
   ]
  },
  {
   "cell_type": "code",
   "execution_count": 5,
   "id": "unauthorized-diameter",
   "metadata": {},
   "outputs": [
    {
     "data": {
      "text/plain": [
       "6"
      ]
     },
     "execution_count": 5,
     "metadata": {},
     "output_type": "execute_result"
    }
   ],
   "source": [
    "5+True\n",
    "# True is nothing but an integer, having value 1"
   ]
  },
  {
   "cell_type": "code",
   "execution_count": 8,
   "id": "trying-inspector",
   "metadata": {},
   "outputs": [
    {
     "data": {
      "text/plain": [
       "bool"
      ]
     },
     "execution_count": 8,
     "metadata": {},
     "output_type": "execute_result"
    }
   ],
   "source": [
    "type(True)"
   ]
  },
  {
   "cell_type": "code",
   "execution_count": 9,
   "id": "bulgarian-reviewer",
   "metadata": {},
   "outputs": [
    {
     "data": {
      "text/plain": [
       "False"
      ]
     },
     "execution_count": 9,
     "metadata": {},
     "output_type": "execute_result"
    }
   ],
   "source": [
    "not True"
   ]
  },
  {
   "cell_type": "code",
   "execution_count": 10,
   "id": "bearing-parade",
   "metadata": {},
   "outputs": [
    {
     "data": {
      "text/plain": [
       "True"
      ]
     },
     "execution_count": 10,
     "metadata": {},
     "output_type": "execute_result"
    }
   ],
   "source": [
    "not False"
   ]
  },
  {
   "cell_type": "code",
   "execution_count": 19,
   "id": "gross-survey",
   "metadata": {},
   "outputs": [
    {
     "data": {
      "text/plain": [
       "False"
      ]
     },
     "execution_count": 19,
     "metadata": {},
     "output_type": "execute_result"
    }
   ],
   "source": [
    "# and opeartor\n",
    "True and False"
   ]
  },
  {
   "cell_type": "code",
   "execution_count": 14,
   "id": "graduate-floating",
   "metadata": {},
   "outputs": [
    {
     "data": {
      "text/plain": [
       "False"
      ]
     },
     "execution_count": 14,
     "metadata": {},
     "output_type": "execute_result"
    }
   ],
   "source": [
    "False and True"
   ]
  },
  {
   "cell_type": "code",
   "execution_count": 18,
   "id": "naval-amber",
   "metadata": {},
   "outputs": [
    {
     "data": {
      "text/plain": [
       "True"
      ]
     },
     "execution_count": 18,
     "metadata": {},
     "output_type": "execute_result"
    }
   ],
   "source": [
    "True and True"
   ]
  },
  {
   "cell_type": "code",
   "execution_count": 17,
   "id": "funny-holder",
   "metadata": {},
   "outputs": [
    {
     "data": {
      "text/plain": [
       "False"
      ]
     },
     "execution_count": 17,
     "metadata": {},
     "output_type": "execute_result"
    }
   ],
   "source": [
    "False and False"
   ]
  },
  {
   "cell_type": "code",
   "execution_count": 20,
   "id": "arbitrary-mirror",
   "metadata": {},
   "outputs": [
    {
     "data": {
      "text/plain": [
       "True"
      ]
     },
     "execution_count": 20,
     "metadata": {},
     "output_type": "execute_result"
    }
   ],
   "source": [
    "# or operator\n",
    "True or False"
   ]
  },
  {
   "cell_type": "code",
   "execution_count": 21,
   "id": "unsigned-prototype",
   "metadata": {},
   "outputs": [
    {
     "data": {
      "text/plain": [
       "False"
      ]
     },
     "execution_count": 21,
     "metadata": {},
     "output_type": "execute_result"
    }
   ],
   "source": [
    "False or False"
   ]
  },
  {
   "cell_type": "markdown",
   "id": "through-cedar",
   "metadata": {},
   "source": [
    "### Short Circuiting Rule\n",
    "#### Truthy and Falsy value concept\n",
    "- 0(A) || B = B\n",
    "- 1(A) || B = 1(A)\n",
    "- 0(A) && B = 0(A)\n",
    "- 1(A) && B = B\n",
    "\n",
    "In python, there is no true or false value, but the truthy and falsy are considered true and false "
   ]
  },
  {
   "cell_type": "code",
   "execution_count": 22,
   "id": "steady-chemistry",
   "metadata": {},
   "outputs": [
    {
     "data": {
      "text/plain": [
       "0"
      ]
     },
     "execution_count": 22,
     "metadata": {},
     "output_type": "execute_result"
    }
   ],
   "source": [
    "5 and 0"
   ]
  },
  {
   "cell_type": "code",
   "execution_count": 23,
   "id": "remarkable-cattle",
   "metadata": {},
   "outputs": [
    {
     "data": {
      "text/plain": [
       "7"
      ]
     },
     "execution_count": 23,
     "metadata": {},
     "output_type": "execute_result"
    }
   ],
   "source": [
    "5 and 7"
   ]
  },
  {
   "cell_type": "code",
   "execution_count": 24,
   "id": "russian-species",
   "metadata": {},
   "outputs": [
    {
     "data": {
      "text/plain": [
       "5"
      ]
     },
     "execution_count": 24,
     "metadata": {},
     "output_type": "execute_result"
    }
   ],
   "source": [
    "5 or 7"
   ]
  },
  {
   "cell_type": "code",
   "execution_count": null,
   "id": "authentic-argument",
   "metadata": {},
   "outputs": [],
   "source": [
    "0 or 6"
   ]
  },
  {
   "cell_type": "code",
   "execution_count": null,
   "id": "hourly-hollow",
   "metadata": {},
   "outputs": [],
   "source": []
  }
 ],
 "metadata": {
  "kernelspec": {
   "display_name": "Python 3",
   "language": "python",
   "name": "python3"
  },
  "language_info": {
   "codemirror_mode": {
    "name": "ipython",
    "version": 3
   },
   "file_extension": ".py",
   "mimetype": "text/x-python",
   "name": "python",
   "nbconvert_exporter": "python",
   "pygments_lexer": "ipython3",
   "version": "3.9.2"
  }
 },
 "nbformat": 4,
 "nbformat_minor": 5
}
