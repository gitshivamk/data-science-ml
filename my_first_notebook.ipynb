{
 "cells": [
  {
   "cell_type": "code",
   "execution_count": 1,
   "id": "successful-mainstream",
   "metadata": {},
   "outputs": [
    {
     "name": "stdout",
     "output_type": "stream",
     "text": [
      "hello sk\n"
     ]
    }
   ],
   "source": [
    "print(\"hello sk\")"
   ]
  },
  {
   "cell_type": "code",
   "execution_count": 12,
   "id": "synthetic-eleven",
   "metadata": {},
   "outputs": [
    {
     "name": "stdout",
     "output_type": "stream",
     "text": [
      "added a cell above\n"
     ]
    }
   ],
   "source": [
    "print(\"added a cell above\")"
   ]
  },
  {
   "cell_type": "code",
   "execution_count": 13,
   "id": "coated-dryer",
   "metadata": {},
   "outputs": [
    {
     "name": "stdout",
     "output_type": "stream",
     "text": [
      "15\n"
     ]
    }
   ],
   "source": [
    "a=5\n",
    "b=10\n",
    "print(a+b)\n",
    "# Esc, A : add a cell above this cell\n",
    "# Esc, B : add a cell below this cell"
   ]
  },
  {
   "cell_type": "code",
   "execution_count": null,
   "id": "burning-microphone",
   "metadata": {},
   "outputs": [],
   "source": [
    "print(\"added a cell below\")"
   ]
  },
  {
   "cell_type": "markdown",
   "id": "enormous-insider",
   "metadata": {},
   "source": [
    "## hello world \n",
    "this is a markdown cell.\n",
    "- a\n",
    "- b\n",
    "- c\n",
    "\n",
    "Shortcut : Press Esc,M(markdown) and then execute Shift+Enter\n",
    "\n",
    "### we can use it to provide description to our code"
   ]
  },
  {
   "cell_type": "code",
   "execution_count": 5,
   "id": "behind-patrol",
   "metadata": {},
   "outputs": [],
   "source": [
    "x=10"
   ]
  },
  {
   "cell_type": "code",
   "execution_count": 3,
   "id": "narrow-valuation",
   "metadata": {},
   "outputs": [],
   "source": [
    "x=5"
   ]
  },
  {
   "cell_type": "code",
   "execution_count": 15,
   "id": "focal-helping",
   "metadata": {},
   "outputs": [
    {
     "name": "stdout",
     "output_type": "stream",
     "text": [
      "Hi\n"
     ]
    }
   ],
   "source": [
    "print(\"Hi\")\n",
    "# Esc,Y, Shift+Enter : again markdown to code"
   ]
  },
  {
   "cell_type": "code",
   "execution_count": null,
   "id": "composite-scroll",
   "metadata": {},
   "outputs": [],
   "source": [
    "print(x)\n",
    "# value of x is printed in the order the cells are executed"
   ]
  },
  {
   "cell_type": "code",
   "execution_count": 4,
   "id": "functional-placement",
   "metadata": {},
   "outputs": [
    {
     "name": "stdout",
     "output_type": "stream",
     "text": [
      "5\n"
     ]
    }
   ],
   "source": [
    "print(x)"
   ]
  },
  {
   "cell_type": "code",
   "execution_count": 1,
   "id": "formed-rendering",
   "metadata": {},
   "outputs": [
    {
     "name": "stdout",
     "output_type": "stream",
     "text": [
      "to delete a cell, press Esc,D,D\n"
     ]
    }
   ],
   "source": [
    "print(\"to delete a cell, press Esc,D,D\")\n",
    "# Esc DD - Delete a cell"
   ]
  },
  {
   "cell_type": "code",
   "execution_count": null,
   "id": "contrary-fourth",
   "metadata": {},
   "outputs": [],
   "source": []
  }
 ],
 "metadata": {
  "kernelspec": {
   "display_name": "Python 3",
   "language": "python",
   "name": "python3"
  },
  "language_info": {
   "codemirror_mode": {
    "name": "ipython",
    "version": 3
   },
   "file_extension": ".py",
   "mimetype": "text/x-python",
   "name": "python",
   "nbconvert_exporter": "python",
   "pygments_lexer": "ipython3",
   "version": "3.9.2"
  }
 },
 "nbformat": 4,
 "nbformat_minor": 5
}
