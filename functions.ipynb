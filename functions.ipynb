{
 "cells": [
  {
   "cell_type": "markdown",
   "id": "spatial-figure",
   "metadata": {},
   "source": [
    "### Functions\n",
    "\n",
    "Functions are reusable pieces of programs. They allow you to give a name to a block of statements, allowing you to run that block using the specified name anywhere in your program and any number of times. This is known as calling the function. We have already used many built-in functions such as len and range.\n",
    "\n",
    "- function declaration\n",
    "    \n",
    "             \n",
    "             def functionName ( arguments ):\n",
    "                 function code suite\n",
    "            "
   ]
  },
  {
   "cell_type": "code",
   "execution_count": 1,
   "id": "afraid-parallel",
   "metadata": {},
   "outputs": [],
   "source": [
    "def sheldon_knock():\n",
    "    print(\"knock kncok kncok shivam\")\n",
    "    print(\"knock kncok kncok shivam\")\n",
    "    print(\"knock kncok kncok shivam\")"
   ]
  },
  {
   "cell_type": "code",
   "execution_count": 2,
   "id": "waiting-islam",
   "metadata": {},
   "outputs": [
    {
     "name": "stdout",
     "output_type": "stream",
     "text": [
      "knock kncok kncok shivam\n",
      "knock kncok kncok shivam\n",
      "knock kncok kncok shivam\n"
     ]
    }
   ],
   "source": [
    "sheldon_knock()"
   ]
  },
  {
   "cell_type": "markdown",
   "id": "antique-shame",
   "metadata": {},
   "source": [
    "### Function can take parameters"
   ]
  },
  {
   "cell_type": "code",
   "execution_count": 11,
   "id": "affiliated-interest",
   "metadata": {},
   "outputs": [],
   "source": [
    "def sheldon_knock(name, number_of_time = 3):\n",
    "    for i in range(number_of_time):\n",
    "        print(\"knock kncok kncok {}\".format(name))"
   ]
  },
  {
   "cell_type": "code",
   "execution_count": 15,
   "id": "engaged-conspiracy",
   "metadata": {},
   "outputs": [
    {
     "name": "stdout",
     "output_type": "stream",
     "text": [
      "knock kncok kncok shivam\n",
      "knock kncok kncok shivam\n",
      "knock kncok kncok shivam\n",
      "knock kncok kncok shivam\n",
      "knock kncok kncok shivam\n"
     ]
    }
   ],
   "source": [
    "sheldon_knock(\"shivam\", 5) # by default, it print 3 times"
   ]
  },
  {
   "cell_type": "markdown",
   "id": "attached-feeling",
   "metadata": {},
   "source": [
    "### return statement"
   ]
  },
  {
   "cell_type": "code",
   "execution_count": 1,
   "id": "thousand-worcester",
   "metadata": {},
   "outputs": [],
   "source": [
    "def add(a,b):\n",
    "    return a+b"
   ]
  },
  {
   "cell_type": "code",
   "execution_count": 3,
   "id": "composed-turner",
   "metadata": {},
   "outputs": [],
   "source": [
    "x= add(5,2)"
   ]
  },
  {
   "cell_type": "code",
   "execution_count": 5,
   "id": "twelve-playlist",
   "metadata": {},
   "outputs": [
    {
     "name": "stdout",
     "output_type": "stream",
     "text": [
      "7\n"
     ]
    }
   ],
   "source": [
    "print (x)"
   ]
  },
  {
   "cell_type": "code",
   "execution_count": 16,
   "id": "chubby-trading",
   "metadata": {},
   "outputs": [],
   "source": [
    "# exception handling\n",
    "def div(a,b):\n",
    "    try:\n",
    "        return a/b\n",
    "    except:\n",
    "        print(\"error\")\n",
    "    finally:\n",
    "        print(\"wrapping up\")"
   ]
  },
  {
   "cell_type": "code",
   "execution_count": 17,
   "id": "unavailable-moderator",
   "metadata": {},
   "outputs": [
    {
     "name": "stdout",
     "output_type": "stream",
     "text": [
      "wrapping up\n"
     ]
    },
    {
     "data": {
      "text/plain": [
       "5.0"
      ]
     },
     "execution_count": 17,
     "metadata": {},
     "output_type": "execute_result"
    }
   ],
   "source": [
    "div(10,2)\n",
    "# finally block will always execute, no matter whatever return statement is present"
   ]
  },
  {
   "cell_type": "code",
   "execution_count": 22,
   "id": "imported-monitor",
   "metadata": {},
   "outputs": [],
   "source": [
    "def div(a,b):\n",
    "    try:\n",
    "        return a/b\n",
    "    except:\n",
    "        print(\"error\")\n",
    "    finally:\n",
    "        print(\"wrapping up\")\n",
    "        return 10\n",
    "    # if the finally block contains a return statement, only that will be executed"
   ]
  },
  {
   "cell_type": "code",
   "execution_count": 19,
   "id": "configured-black",
   "metadata": {},
   "outputs": [
    {
     "name": "stdout",
     "output_type": "stream",
     "text": [
      "wrapping up\n"
     ]
    },
    {
     "data": {
      "text/plain": [
       "10"
      ]
     },
     "execution_count": 19,
     "metadata": {},
     "output_type": "execute_result"
    }
   ],
   "source": [
    "div(10,2)"
   ]
  },
  {
   "cell_type": "code",
   "execution_count": 32,
   "id": "motivated-bulgarian",
   "metadata": {},
   "outputs": [],
   "source": [
    "x=10\n",
    "def show():\n",
    "    x = 5\n",
    "    print(x)"
   ]
  },
  {
   "cell_type": "code",
   "execution_count": 33,
   "id": "afraid-chester",
   "metadata": {},
   "outputs": [
    {
     "name": "stdout",
     "output_type": "stream",
     "text": [
      "5\n",
      "10\n"
     ]
    }
   ],
   "source": [
    "show()\n",
    "print(x)"
   ]
  },
  {
   "cell_type": "code",
   "execution_count": 42,
   "id": "capital-shelf",
   "metadata": {},
   "outputs": [],
   "source": [
    "x=10\n",
    "def show():\n",
    "    x += 5\n",
    "# local variable 'x' referenced before assignment, will cause an 'UnboundLocalError'\n",
    "# we can't upadte the value of x before assigning a value to it inside a function\n",
    "    print(x)"
   ]
  },
  {
   "cell_type": "code",
   "execution_count": 43,
   "id": "ranging-electric",
   "metadata": {},
   "outputs": [
    {
     "ename": "UnboundLocalError",
     "evalue": "local variable 'x' referenced before assignment",
     "output_type": "error",
     "traceback": [
      "\u001b[1;31m---------------------------------------------------------------------------\u001b[0m",
      "\u001b[1;31mUnboundLocalError\u001b[0m                         Traceback (most recent call last)",
      "\u001b[1;32m<ipython-input-43-59a891b4a22f>\u001b[0m in \u001b[0;36m<module>\u001b[1;34m\u001b[0m\n\u001b[1;32m----> 1\u001b[1;33m \u001b[0mshow\u001b[0m\u001b[1;33m(\u001b[0m\u001b[1;33m)\u001b[0m\u001b[1;33m\u001b[0m\u001b[1;33m\u001b[0m\u001b[0m\n\u001b[0m\u001b[0;32m      2\u001b[0m \u001b[0mprint\u001b[0m\u001b[1;33m(\u001b[0m\u001b[0mx\u001b[0m\u001b[1;33m)\u001b[0m\u001b[1;33m\u001b[0m\u001b[1;33m\u001b[0m\u001b[0m\n",
      "\u001b[1;32m<ipython-input-42-d25e7227512c>\u001b[0m in \u001b[0;36mshow\u001b[1;34m()\u001b[0m\n\u001b[0;32m      1\u001b[0m \u001b[0mx\u001b[0m\u001b[1;33m=\u001b[0m\u001b[1;36m10\u001b[0m\u001b[1;33m\u001b[0m\u001b[1;33m\u001b[0m\u001b[0m\n\u001b[0;32m      2\u001b[0m \u001b[1;32mdef\u001b[0m \u001b[0mshow\u001b[0m\u001b[1;33m(\u001b[0m\u001b[1;33m)\u001b[0m\u001b[1;33m:\u001b[0m\u001b[1;33m\u001b[0m\u001b[1;33m\u001b[0m\u001b[0m\n\u001b[1;32m----> 3\u001b[1;33m     \u001b[0mx\u001b[0m \u001b[1;33m+=\u001b[0m \u001b[1;36m5\u001b[0m\u001b[1;33m\u001b[0m\u001b[1;33m\u001b[0m\u001b[0m\n\u001b[0m\u001b[0;32m      4\u001b[0m \u001b[1;31m# local variable 'x' referenced before assignment, will cause an 'UnboundLocalError'\u001b[0m\u001b[1;33m\u001b[0m\u001b[1;33m\u001b[0m\u001b[1;33m\u001b[0m\u001b[0m\n\u001b[0;32m      5\u001b[0m \u001b[1;31m# we can't upadte the value of x before assigning a value to it inside a function\u001b[0m\u001b[1;33m\u001b[0m\u001b[1;33m\u001b[0m\u001b[1;33m\u001b[0m\u001b[0m\n",
      "\u001b[1;31mUnboundLocalError\u001b[0m: local variable 'x' referenced before assignment"
     ]
    }
   ],
   "source": [
    "show()\n",
    "print(x)"
   ]
  },
  {
   "cell_type": "markdown",
   "id": "recent-glance",
   "metadata": {},
   "source": [
    "### local and global variables"
   ]
  },
  {
   "cell_type": "code",
   "execution_count": 30,
   "id": "micro-latitude",
   "metadata": {},
   "outputs": [],
   "source": [
    "# so, gloabl x is declared inside the function\n",
    "x=10\n",
    "def show():\n",
    "    global x\n",
    "    x += 5\n",
    "    print(x)"
   ]
  },
  {
   "cell_type": "code",
   "execution_count": 31,
   "id": "closing-approval",
   "metadata": {},
   "outputs": [
    {
     "name": "stdout",
     "output_type": "stream",
     "text": [
      "15\n",
      "15\n"
     ]
    }
   ],
   "source": [
    "show()\n",
    "print(x)"
   ]
  },
  {
   "cell_type": "code",
   "execution_count": 39,
   "id": "sporting-stockholm",
   "metadata": {},
   "outputs": [],
   "source": [
    "# enclosures\n",
    "def outer():\n",
    "    x = 10\n",
    "    \n",
    "    def inner():\n",
    "        nonlocal x\n",
    "        x+=5\n",
    "        print(x)\n",
    "        \n",
    "    inner()\n",
    "    print(x)\n",
    "    "
   ]
  },
  {
   "cell_type": "code",
   "execution_count": 40,
   "id": "auburn-showcase",
   "metadata": {},
   "outputs": [
    {
     "name": "stdout",
     "output_type": "stream",
     "text": [
      "15\n",
      "15\n"
     ]
    }
   ],
   "source": [
    "outer()"
   ]
  },
  {
   "cell_type": "markdown",
   "id": "official-departure",
   "metadata": {},
   "source": [
    "### Default argument values & keyword arguments"
   ]
  },
  {
   "cell_type": "code",
   "execution_count": 46,
   "id": "civilian-danish",
   "metadata": {},
   "outputs": [],
   "source": [
    "def show(a,b,c):\n",
    "    print(a)\n",
    "    print(b)\n",
    "    print(c)"
   ]
  },
  {
   "cell_type": "code",
   "execution_count": 48,
   "id": "excessive-transsexual",
   "metadata": {},
   "outputs": [
    {
     "name": "stdout",
     "output_type": "stream",
     "text": [
      "hello\n",
      "world\n",
      "python\n"
     ]
    }
   ],
   "source": [
    "show(\"hello\", \"world\", \"python\")"
   ]
  },
  {
   "cell_type": "code",
   "execution_count": 49,
   "id": "therapeutic-boost",
   "metadata": {},
   "outputs": [],
   "source": [
    "def show(a,b,c):\n",
    "    print(a)\n",
    "    print(b)\n",
    "    print(c)"
   ]
  },
  {
   "cell_type": "code",
   "execution_count": 52,
   "id": "another-desperate",
   "metadata": {},
   "outputs": [
    {
     "name": "stdout",
     "output_type": "stream",
     "text": [
      "python\n",
      "hello\n",
      "world\n"
     ]
    }
   ],
   "source": [
    "show(b=\"hello\", c=\"world\", a=\"python\")\n",
    "# this is a keyword argument, explicitly changing the value of arguments"
   ]
  },
  {
   "cell_type": "code",
   "execution_count": 61,
   "id": "limiting-block",
   "metadata": {},
   "outputs": [],
   "source": [
    "def show(a,b,c,d=\"something\", e=\"something more\"):\n",
    "    print(a)\n",
    "    print(b)\n",
    "    print(c)\n",
    "    print(d)\n",
    "    print(e)"
   ]
  },
  {
   "cell_type": "code",
   "execution_count": 64,
   "id": "protecting-coalition",
   "metadata": {},
   "outputs": [
    {
     "name": "stdout",
     "output_type": "stream",
     "text": [
      "hello\n",
      "world\n",
      "python\n",
      "something\n",
      "shivam\n"
     ]
    }
   ],
   "source": [
    "show(\"hello\", \"world\", \"python\", e=\"shivam\")\n",
    "# here value of \"e\" is explicitly changed"
   ]
  },
  {
   "cell_type": "code",
   "execution_count": 65,
   "id": "communist-promotion",
   "metadata": {},
   "outputs": [
    {
     "name": "stdout",
     "output_type": "stream",
     "text": [
      "shivam loves python\n"
     ]
    }
   ],
   "source": [
    "print(\"shivam\", \"loves\", \"python\")"
   ]
  },
  {
   "cell_type": "markdown",
   "id": "meaning-receipt",
   "metadata": {},
   "source": [
    "### Packed arguments"
   ]
  },
  {
   "cell_type": "code",
   "execution_count": 1,
   "id": "banned-superior",
   "metadata": {},
   "outputs": [],
   "source": [
    "def show(*args):\n",
    "    print(args)"
   ]
  },
  {
   "cell_type": "code",
   "execution_count": 7,
   "id": "expensive-trial",
   "metadata": {},
   "outputs": [
    {
     "name": "stdout",
     "output_type": "stream",
     "text": [
      "('shivam',)\n"
     ]
    }
   ],
   "source": [
    "show(1,2,3, \"shivam\") # returns a tuple of arguments"
   ]
  },
  {
   "cell_type": "code",
   "execution_count": 13,
   "id": "danish-settle",
   "metadata": {},
   "outputs": [],
   "source": [
    "def show(a,b,c,*args):\n",
    "    print(args)\n",
    "# three positional arguments and rest are simply arguments"
   ]
  },
  {
   "cell_type": "code",
   "execution_count": 8,
   "id": "aging-consumption",
   "metadata": {},
   "outputs": [
    {
     "name": "stdout",
     "output_type": "stream",
     "text": [
      "('shivam',)\n"
     ]
    }
   ],
   "source": [
    "show(1,2,3, \"shivam\")"
   ]
  },
  {
   "cell_type": "markdown",
   "id": "occupational-monster",
   "metadata": {},
   "source": [
    "  ### Keyword arguments "
   ]
  },
  {
   "cell_type": "code",
   "execution_count": 18,
   "id": "sixth-politics",
   "metadata": {},
   "outputs": [],
   "source": [
    "def show(a,b,c,*args, d=10, e=20, **kwargs):\n",
    "    print(a)\n",
    "    print(args)\n",
    "    print(d)\n",
    "    print(e)\n",
    "    print(kwargs)\n",
    "# kwargs are shown as dictionary"
   ]
  },
  {
   "cell_type": "code",
   "execution_count": 19,
   "id": "duplicate-stanford",
   "metadata": {},
   "outputs": [
    {
     "name": "stdout",
     "output_type": "stream",
     "text": [
      "1\n",
      "('shivam', 'kumar')\n",
      "100\n",
      "20\n",
      "{'name': 'shivam'}\n"
     ]
    }
   ],
   "source": [
    "show(1,2,3,\"shivam\",\"kumar\",d=100,name=\"shivam\")"
   ]
  },
  {
   "cell_type": "markdown",
   "id": "structural-mobile",
   "metadata": {},
   "source": [
    "### Lambda Functions\n",
    "Syntactical sugar\n",
    "- It is a single line statement of a function"
   ]
  },
  {
   "cell_type": "code",
   "execution_count": 22,
   "id": "antique-wallpaper",
   "metadata": {},
   "outputs": [],
   "source": [
    "def add(a,b):\n",
    "    return(a+b)"
   ]
  },
  {
   "cell_type": "code",
   "execution_count": 24,
   "id": "oriental-education",
   "metadata": {},
   "outputs": [],
   "source": [
    "add = lambda a,b: a+b"
   ]
  },
  {
   "cell_type": "code",
   "execution_count": 25,
   "id": "enhanced-figure",
   "metadata": {},
   "outputs": [
    {
     "data": {
      "text/plain": [
       "4"
      ]
     },
     "execution_count": 25,
     "metadata": {},
     "output_type": "execute_result"
    }
   ],
   "source": [
    "add(1,3)"
   ]
  },
  {
   "cell_type": "code",
   "execution_count": 30,
   "id": "important-matrix",
   "metadata": {},
   "outputs": [],
   "source": [
    "a=[(\"dhoni\",7), (\"kohli\",18), (\"tendulkar\",10), (\"rohit\",45)]"
   ]
  },
  {
   "cell_type": "code",
   "execution_count": 35,
   "id": "pending-jonathan",
   "metadata": {},
   "outputs": [],
   "source": [
    "sorted? # official documentation"
   ]
  },
  {
   "cell_type": "code",
   "execution_count": 34,
   "id": "adapted-chancellor",
   "metadata": {},
   "outputs": [
    {
     "data": {
      "text/plain": [
       "[('dhoni', 7), ('kohli', 18), ('rohit', 45), ('tendulkar', 10)]"
      ]
     },
     "execution_count": 34,
     "metadata": {},
     "output_type": "execute_result"
    }
   ],
   "source": [
    "sorted(a)"
   ]
  },
  {
   "cell_type": "code",
   "execution_count": 36,
   "id": "declared-catholic",
   "metadata": {},
   "outputs": [],
   "source": [
    "a=[(\"dhoni\",7), (\"kohli\",18), (\"tendulkar\",10), (\"rohit\",45)]"
   ]
  },
  {
   "cell_type": "code",
   "execution_count": 38,
   "id": "fresh-forest",
   "metadata": {},
   "outputs": [],
   "source": [
    "def key(x):\n",
    "    return x[1]"
   ]
  },
  {
   "cell_type": "code",
   "execution_count": 42,
   "id": "collect-safety",
   "metadata": {},
   "outputs": [
    {
     "data": {
      "text/plain": [
       "[('dhoni', 7), ('tendulkar', 10), ('kohli', 18), ('rohit', 45)]"
      ]
     },
     "execution_count": 42,
     "metadata": {},
     "output_type": "execute_result"
    }
   ],
   "source": [
    "sorted(a, key= key)"
   ]
  },
  {
   "cell_type": "code",
   "execution_count": 37,
   "id": "caring-sewing",
   "metadata": {},
   "outputs": [
    {
     "data": {
      "text/plain": [
       "[('dhoni', 7), ('tendulkar', 10), ('kohli', 18), ('rohit', 45)]"
      ]
     },
     "execution_count": 37,
     "metadata": {},
     "output_type": "execute_result"
    }
   ],
   "source": [
    "sorted(a, key= lambda x:x[1])"
   ]
  },
  {
   "cell_type": "code",
   "execution_count": null,
   "id": "bridal-crash",
   "metadata": {},
   "outputs": [],
   "source": []
  },
  {
   "cell_type": "markdown",
   "id": "personalized-gross",
   "metadata": {},
   "source": [
    "### Decorators"
   ]
  },
  {
   "cell_type": "code",
   "execution_count": 100,
   "id": "public-dependence",
   "metadata": {},
   "outputs": [],
   "source": [
    "users ={\n",
    "    \"shivam\":\"password\",\n",
    "    \"shashank\":\"passcode\"\n",
    "}"
   ]
  },
  {
   "cell_type": "code",
   "execution_count": 101,
   "id": "enhanced-advertiser",
   "metadata": {},
   "outputs": [],
   "source": [
    "def show(username, password):\n",
    "    if username in users and users[username]== password:\n",
    "        print(\"hello world\")\n",
    "    else:\n",
    "        print(\"Not Authenticated\")"
   ]
  },
  {
   "cell_type": "code",
   "execution_count": 102,
   "id": "rational-polyester",
   "metadata": {},
   "outputs": [
    {
     "name": "stdout",
     "output_type": "stream",
     "text": [
      "hello world\n"
     ]
    }
   ],
   "source": [
    "show(\"shivam\", \"password\")"
   ]
  },
  {
   "cell_type": "code",
   "execution_count": 107,
   "id": "altered-glossary",
   "metadata": {},
   "outputs": [
    {
     "name": "stdout",
     "output_type": "stream",
     "text": [
      "Not Authenticated\n"
     ]
    }
   ],
   "source": [
    "show(\"shashank\",\"pascode\")"
   ]
  },
  {
   "cell_type": "code",
   "execution_count": 108,
   "id": "further-mattress",
   "metadata": {},
   "outputs": [],
   "source": [
    "def add(username, password, a, b):\n",
    "    if username in users and users[username]== password:\n",
    "        print(a+b)\n",
    "    else:\n",
    "        print(\"Not Authenticated\")"
   ]
  },
  {
   "cell_type": "code",
   "execution_count": 109,
   "id": "prostate-setup",
   "metadata": {},
   "outputs": [
    {
     "name": "stdout",
     "output_type": "stream",
     "text": [
      "4\n"
     ]
    }
   ],
   "source": [
    "add(\"shivam\", \"password\",1,3)"
   ]
  },
  {
   "cell_type": "code",
   "execution_count": 110,
   "id": "experienced-boring",
   "metadata": {},
   "outputs": [
    {
     "name": "stdout",
     "output_type": "stream",
     "text": [
      "Not Authenticated\n"
     ]
    }
   ],
   "source": [
    "add(\"shivam\", \"passcode\",1,3)"
   ]
  },
  {
   "cell_type": "code",
   "execution_count": null,
   "id": "magnetic-buffalo",
   "metadata": {},
   "outputs": [],
   "source": []
  },
  {
   "cell_type": "code",
   "execution_count": 111,
   "id": "transparent-blues",
   "metadata": {},
   "outputs": [],
   "source": [
    "def temp(*args,**kwargs):\n",
    "    print(args)\n",
    "    print(kwargs)"
   ]
  },
  {
   "cell_type": "code",
   "execution_count": 112,
   "id": "patent-titanium",
   "metadata": {},
   "outputs": [],
   "source": [
    "a=(1,2,3)"
   ]
  },
  {
   "cell_type": "code",
   "execution_count": 113,
   "id": "atomic-wellington",
   "metadata": {},
   "outputs": [
    {
     "name": "stdout",
     "output_type": "stream",
     "text": [
      "(1, 2, 3)\n",
      "{}\n"
     ]
    }
   ],
   "source": [
    "temp(*a)"
   ]
  },
  {
   "cell_type": "code",
   "execution_count": null,
   "id": "proud-touch",
   "metadata": {},
   "outputs": [],
   "source": []
  },
  {
   "cell_type": "code",
   "execution_count": null,
   "id": "genetic-receipt",
   "metadata": {},
   "outputs": [],
   "source": []
  },
  {
   "cell_type": "code",
   "execution_count": 115,
   "id": "portable-means",
   "metadata": {},
   "outputs": [],
   "source": [
    "def login_required(func):\n",
    "    def wrapper(username, password, *args, **kwargs):\n",
    "            if username in users and users[username]== password:\n",
    "                # user is authenticated\n",
    "                func(*args,**kwargs)\n",
    "            else:\n",
    "                print(\"Not Authenticated\")\n",
    "    return wrapper"
   ]
  },
  {
   "cell_type": "code",
   "execution_count": 131,
   "id": "forward-silver",
   "metadata": {},
   "outputs": [],
   "source": [
    "def add(a,b):\n",
    "    print(a+b)"
   ]
  },
  {
   "cell_type": "code",
   "execution_count": 133,
   "id": "bulgarian-simple",
   "metadata": {},
   "outputs": [
    {
     "name": "stdout",
     "output_type": "stream",
     "text": [
      "4\n"
     ]
    }
   ],
   "source": [
    "add(1,3)"
   ]
  },
  {
   "cell_type": "code",
   "execution_count": 129,
   "id": "dominican-benjamin",
   "metadata": {},
   "outputs": [],
   "source": [
    "protected_add= login_required(add)"
   ]
  },
  {
   "cell_type": "code",
   "execution_count": 126,
   "id": "transsexual-walter",
   "metadata": {},
   "outputs": [
    {
     "name": "stdout",
     "output_type": "stream",
     "text": [
      "Not Authenticated\n"
     ]
    }
   ],
   "source": [
    "protected_add(\"shivam\", \"pasword\",1,3)"
   ]
  },
  {
   "cell_type": "code",
   "execution_count": null,
   "id": "african-essay",
   "metadata": {},
   "outputs": [],
   "source": []
  },
  {
   "cell_type": "code",
   "execution_count": 134,
   "id": "consecutive-algebra",
   "metadata": {},
   "outputs": [],
   "source": [
    "def add(a,b):\n",
    "    print(a+b)\n",
    "add=login_required(add)"
   ]
  },
  {
   "cell_type": "code",
   "execution_count": null,
   "id": "oriented-lingerie",
   "metadata": {},
   "outputs": [],
   "source": []
  },
  {
   "cell_type": "code",
   "execution_count": 138,
   "id": "southern-monday",
   "metadata": {},
   "outputs": [],
   "source": [
    "@login_required # decorator\n",
    "def add(a,b):\n",
    "    print(a+b)"
   ]
  },
  {
   "cell_type": "code",
   "execution_count": 139,
   "id": "healthy-official",
   "metadata": {},
   "outputs": [
    {
     "name": "stdout",
     "output_type": "stream",
     "text": [
      "4\n"
     ]
    }
   ],
   "source": [
    "add(\"shivam\", \"password\",1,3)"
   ]
  },
  {
   "cell_type": "code",
   "execution_count": null,
   "id": "grateful-mining",
   "metadata": {},
   "outputs": [],
   "source": []
  },
  {
   "cell_type": "code",
   "execution_count": null,
   "id": "bright-murder",
   "metadata": {},
   "outputs": [],
   "source": []
  },
  {
   "cell_type": "markdown",
   "id": "middle-telling",
   "metadata": {},
   "source": [
    "### \\*args and **kwargs\n",
    "- we can use any variable such as x, y for \\*args and \\*\\*kwargs"
   ]
  },
  {
   "cell_type": "code",
   "execution_count": 152,
   "id": "prerequisite-mapping",
   "metadata": {},
   "outputs": [
    {
     "name": "stdout",
     "output_type": "stream",
     "text": [
      "1\n",
      "3\n",
      "(4, 10)\n",
      "<class 'tuple'>\n",
      "{'shake': 'OreoShake', 'drink': 'Lemonade', 'fruit': 'Mango'}\n",
      "<class 'dict'>\n",
      "shake OreoShake\n",
      "drink Lemonade\n",
      "fruit Mango\n"
     ]
    }
   ],
   "source": [
    "def fun(a,b,*args,**kwargs):\n",
    "    print(a)\n",
    "    print(b)\n",
    "    print(args)\n",
    "    print(type(args))\n",
    "    print(kwargs)\n",
    "    print(type(kwargs))\n",
    "    \n",
    "    for k in kwargs:\n",
    "        print(k,kwargs[k])\n",
    "    \n",
    "fun(1,3,4,10,shake=\"OreoShake\",drink=\"Lemonade\",fruit=\"Mango\")"
   ]
  },
  {
   "cell_type": "code",
   "execution_count": null,
   "id": "imported-subsection",
   "metadata": {},
   "outputs": [],
   "source": []
  }
 ],
 "metadata": {
  "kernelspec": {
   "display_name": "Python 3",
   "language": "python",
   "name": "python3"
  },
  "language_info": {
   "codemirror_mode": {
    "name": "ipython",
    "version": 3
   },
   "file_extension": ".py",
   "mimetype": "text/x-python",
   "name": "python",
   "nbconvert_exporter": "python",
   "pygments_lexer": "ipython3",
   "version": "3.9.2"
  }
 },
 "nbformat": 4,
 "nbformat_minor": 5
}
